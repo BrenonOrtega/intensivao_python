{
 "metadata": {
  "language_info": {
   "codemirror_mode": {
    "name": "ipython",
    "version": 3
   },
   "file_extension": ".py",
   "mimetype": "text/x-python",
   "name": "python",
   "nbconvert_exporter": "python",
   "pygments_lexer": "ipython3",
   "version": "3.9.1-final"
  },
  "orig_nbformat": 2,
  "kernelspec": {
   "name": "python3",
   "display_name": "Python 3",
   "language": "python"
  }
 },
 "nbformat": 4,
 "nbformat_minor": 2,
 "cells": [
  {
   "cell_type": "code",
   "execution_count": null,
   "metadata": {},
   "outputs": [],
   "source": [
    "\n",
    "#Problema: Com a tabela \"Vendas.xlsx\" devemos criar relatórios de cada uma das lojas no dataframe, enviar para os seus respectivos gerentes e então, enviar um relatório geral para a diretoria.\n",
    "\n",
    "#Devemos automatizar este processo utilizando python."
   ]
  },
  {
   "source": [
    "#Aqui é feita a importação da lib pandas como pd e utilizada sua \n",
    "#função para ler o excel e display para mostrar a tabela e seu conteúdo.\n",
    "#lembrete:necessário instalação das libs corretas para executar a leitura.\n",
    "import pandas as pd\n",
    "\n",
    "tabela_vendas = pd.read_excel(\"./Vendas.xlsx\")\n",
    "display(tabela_vendas.columns)"
   ],
   "cell_type": "code",
   "metadata": {},
   "execution_count": null,
   "outputs": []
  },
  {
   "cell_type": "code",
   "execution_count": null,
   "metadata": {},
   "outputs": [],
   "source": [
    "#aqui é criada a tabela_faturamento recebendo apenas as colunas \"ID Loja\" e \"Valor final\"\n",
    "#subsquentemente jáfoi feito o agrupamento das linhas usando como parametro o \"ID Loja\" e a \n",
    "#soma dos valores com função \"Sum()\" possívelmente existem as funções das outras operações.\n",
    "faturamento = tabela_vendas[[\"ID Loja\", \"Valor Final\"]].groupby(by=\"ID Loja\", sort=False).sum()\n",
    "\n",
    "#É possível selecionar como ordernar a tabela utilizando a função \".sort_value()\" ou \".sort_index()\"\n",
    "#importante ressaltar que sort_index() não recebe um parametro \"by\", enquanto sort_values() recebe.\n",
    "#o parametro ascending=bool que dita se o index ou os valores será apresentado de maneira crescente ou decrescente.\n",
    "faturamento = faturamento.sort_index(ascending=True)\n",
    "print(tabela_faturamento)"
   ]
  },
  {
   "cell_type": "code",
   "execution_count": null,
   "metadata": {},
   "outputs": [],
   "source": [
    "#   Criação da tabela total_vendas, onde será possível averiguar quantas \n",
    "#   vendas foram feitas por cada loja, também já sendo agrupadas de acordo com o ID\n",
    "#   e somando os valores da quantidade de vendas.\n",
    "total_vendas = tabela_vendas[[\"ID Loja\", \"Quantidade\"]].groupby(\"ID Loja\").sum()\n",
    "\n",
    "#   Listando de acordo com a quantidade de vendas\n",
    "total_vendas = total_vendas.sort_index()\n",
    "print(total_vendas)"
   ]
  },
  {
   "cell_type": "code",
   "execution_count": null,
   "metadata": {},
   "outputs": [],
   "source": []
  },
  {
   "cell_type": "code",
   "execution_count": null,
   "metadata": {
    "tags": []
   },
   "outputs": [],
   "source": [
    "#   Agora com a tabela de total de vendas e total faturamento, podemos calcular o \n",
    "#   \"ticket médio\" das vendas que é o valor médio de cada venda feita por aquela loja.\n",
    "#   IMPORTANTE: PARA TRANSFORMAR ticket_medio EM UM DATAFRAME É NECESSÁRIO USAR A FUNÇÃO \".to_frame()\"\n",
    "ticket_medio = (faturamento[\"Valor Final\"] / total_vendas[\"Quantidade\"]).to_frame()\n",
    "\n",
    "#Renomeando  o campo vazio para \"ticket médio\" utilizando o comando rename({'oldName1': 'newName1'})\n",
    "#A coluna vem por padrão definida como 0, portanto renomeamos 0 com \"Ticket Medio\"\n",
    "#Então organizamos de acordo com o maior valor utilizando novamente o sort_values()\n",
    "ticket_medio = ticket_medio.rename(columns={0: \"Ticket Medio\"}).sort_index()\n",
    "\n",
    "print(ticket_medio)"
   ]
  },
  {
   "cell_type": "code",
   "execution_count": null,
   "metadata": {},
   "outputs": [],
   "source": [
    "#   Agora para gerar um relatório customizado para cada loja, primeiramente é necessário gerar \n",
    "#   uma lista com todas as lojasnosso dataframe tabela_vendas possuí todos os nome de loja, \n",
    "#   porém com repetições, se passarmos diretamente para a variável lojas, teremos todas as \n",
    "#   10mil linhas apresentadasPara resolver isso, existe o método de dataframe \"unique()\" que\n",
    "#   retornará cada uma das chaves de ID Loja sem repetições.\n",
    "lojas = tabela_vendas['ID Loja'].unique()\n",
    "\n",
    "fatur_qtd = tabela_vendas[['ID Loja', 'Quantidade', 'Valor Final']].groupby('ID Loja').sum()\n",
    "fatur_qtd = fatur_qtd.sort_index()\n",
    "\n",
    "print(fatur_qtd)"
   ]
  },
  {
   "cell_type": "code",
   "execution_count": null,
   "metadata": {},
   "outputs": [],
   "source": [
    "#   Criação da função que gera e dispara os emails automaticamente. \n",
    "#   Teste de geração de email: OK\n",
    "#   Teste de envio de email: Pendente\n",
    "\n",
    "import smtplib\n",
    "import email.message\n",
    "secrets = 'teste'\n",
    "def enviar_email(resumo_loja, loja, destinatario=\"teste123@hotmail.com\"):\n",
    "    remetente = \"brenon.ortega@gmail.com\"\n",
    "    servidor = smtplib.SMTP(\"smtp.gmail.com:587\")\n",
    "    conteudo_email = f\"\"\"\n",
    "        <h1>Este é o resumo da loja {loja}</h1>\n",
    "        {resumo_loja.to_html()}\n",
    "        <p>Estou a disposição em caso de dúvidas</p> \n",
    "    \"\"\"\n",
    "\n",
    "    mail = email.message.Message()\n",
    "\n",
    "    mail['subject'] = f'Resumo de Vendas - loja {loja}' \n",
    "    mail['From'] = remetente\n",
    "    mail['To'] = destinatario\n",
    "    password = secrets\n",
    "\n",
    "    mail.add_header('contenty-type', 'text/html')\n",
    "    mail.set_payload(conteudo_email)\n",
    "\n",
    "    #server.starttls()\n",
    "    #server.login(remetente, password)\n",
    "    #s.sendmail(remetente, destinatario, email.as_string().encode('utf-8'))\n",
    "    print(mail)\n"
   ]
  },
  {
   "cell_type": "code",
   "execution_count": null,
   "metadata": {
    "tags": []
   },
   "outputs": [],
   "source": [
    "\n",
    "#   Agora a maneira para conseguir gerar um resumo do faturamente e da quantidade de vendas, é \n",
    "#   necessário criar um laço for que executará duas operações, primeiro gerar uma tabela com\n",
    "#   todas as vendas de uma loja específica,agrupar estes dadogits e fazer a somatória, gerar o ticket médio de cada loja.\n",
    "#   ***O atributo \"loc[]\" tem muitas peculiaridades, ler e entender bem a documentação para utilizá-lo.\n",
    "for loja in lojas:\n",
    "    tabela_loja = tabela_vendas.loc[(tabela_vendas[\"ID Loja\"] == loja), ['ID Loja', 'Quantidade', 'Valor Final']]\n",
    "    tabela_loja = tabela_loja.groupby('ID Loja').sum()\n",
    "    tabela_loja[\"Ticket Médio\"] = tabela_loja[\"Valor Final\"] / tabela_loja[\"Quantidade\"]\n",
    "    enviar_email(tabela_loja, loja)\n",
    "\n",
    "\n",
    "\n"
   ]
  },
  {
   "cell_type": "code",
   "execution_count": null,
   "metadata": {},
   "outputs": [],
   "source": []
  }
 ]
}