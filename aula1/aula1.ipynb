{
 "metadata": {
  "language_info": {
   "codemirror_mode": {
    "name": "ipython",
    "version": 3
   },
   "file_extension": ".py",
   "mimetype": "text/x-python",
   "name": "python",
   "nbconvert_exporter": "python",
   "pygments_lexer": "ipython3",
   "version": "3.9.1-final"
  },
  "orig_nbformat": 2,
  "kernelspec": {
   "name": "python3",
   "display_name": "Python 3",
   "language": "python"
  }
 },
 "nbformat": 4,
 "nbformat_minor": 2,
 "cells": [
  {
   "source": [
    "import pandas as pd\n",
    "\n",
    "tabela_vendas = pd.read_excel(\"./Vendas.xlsx\")\n",
    "display(tabela_vendas)"
   ],
   "cell_type": "code",
   "metadata": {},
   "execution_count": 1,
   "outputs": [
    {
     "output_type": "display_data",
     "data": {
      "text/plain": "        Código Venda       Data                     ID Loja           Produto  \\\n0                  1 2019-01-01          Iguatemi Esplanada    Sapato Estampa   \n1                  1 2019-01-01          Iguatemi Esplanada          Camiseta   \n2                  1 2019-01-01          Iguatemi Esplanada     Sapato Xadrez   \n3                  2 2019-01-02              Norte Shopping           Relógio   \n4                  2 2019-01-02              Norte Shopping      Chinelo Liso   \n...              ...        ...                         ...               ...   \n100994         69996 2019-12-26  Center Shopping Uberlândia    Short Listrado   \n100995         69996 2019-12-26  Center Shopping Uberlândia           Mochila   \n100996         69996 2019-12-26  Center Shopping Uberlândia  Pulseira Estampa   \n100997         69997 2019-12-26           Ribeirão Shopping   Camisa Listrado   \n100998         69997 2019-12-26           Ribeirão Shopping       Short Linho   \n\n        Quantidade  Valor Unitário  Valor Final  \n0                1             358          358  \n1                2             180          360  \n2                1             368          368  \n3                3             200          600  \n4                1              71           71  \n...            ...             ...          ...  \n100994           2             102          204  \n100995           4             270         1080  \n100996           1              87           87  \n100997           1             108          108  \n100998           2             133          266  \n\n[100999 rows x 7 columns]",
      "text/html": "<div>\n<style scoped>\n    .dataframe tbody tr th:only-of-type {\n        vertical-align: middle;\n    }\n\n    .dataframe tbody tr th {\n        vertical-align: top;\n    }\n\n    .dataframe thead th {\n        text-align: right;\n    }\n</style>\n<table border=\"1\" class=\"dataframe\">\n  <thead>\n    <tr style=\"text-align: right;\">\n      <th></th>\n      <th>Código Venda</th>\n      <th>Data</th>\n      <th>ID Loja</th>\n      <th>Produto</th>\n      <th>Quantidade</th>\n      <th>Valor Unitário</th>\n      <th>Valor Final</th>\n    </tr>\n  </thead>\n  <tbody>\n    <tr>\n      <th>0</th>\n      <td>1</td>\n      <td>2019-01-01</td>\n      <td>Iguatemi Esplanada</td>\n      <td>Sapato Estampa</td>\n      <td>1</td>\n      <td>358</td>\n      <td>358</td>\n    </tr>\n    <tr>\n      <th>1</th>\n      <td>1</td>\n      <td>2019-01-01</td>\n      <td>Iguatemi Esplanada</td>\n      <td>Camiseta</td>\n      <td>2</td>\n      <td>180</td>\n      <td>360</td>\n    </tr>\n    <tr>\n      <th>2</th>\n      <td>1</td>\n      <td>2019-01-01</td>\n      <td>Iguatemi Esplanada</td>\n      <td>Sapato Xadrez</td>\n      <td>1</td>\n      <td>368</td>\n      <td>368</td>\n    </tr>\n    <tr>\n      <th>3</th>\n      <td>2</td>\n      <td>2019-01-02</td>\n      <td>Norte Shopping</td>\n      <td>Relógio</td>\n      <td>3</td>\n      <td>200</td>\n      <td>600</td>\n    </tr>\n    <tr>\n      <th>4</th>\n      <td>2</td>\n      <td>2019-01-02</td>\n      <td>Norte Shopping</td>\n      <td>Chinelo Liso</td>\n      <td>1</td>\n      <td>71</td>\n      <td>71</td>\n    </tr>\n    <tr>\n      <th>...</th>\n      <td>...</td>\n      <td>...</td>\n      <td>...</td>\n      <td>...</td>\n      <td>...</td>\n      <td>...</td>\n      <td>...</td>\n    </tr>\n    <tr>\n      <th>100994</th>\n      <td>69996</td>\n      <td>2019-12-26</td>\n      <td>Center Shopping Uberlândia</td>\n      <td>Short Listrado</td>\n      <td>2</td>\n      <td>102</td>\n      <td>204</td>\n    </tr>\n    <tr>\n      <th>100995</th>\n      <td>69996</td>\n      <td>2019-12-26</td>\n      <td>Center Shopping Uberlândia</td>\n      <td>Mochila</td>\n      <td>4</td>\n      <td>270</td>\n      <td>1080</td>\n    </tr>\n    <tr>\n      <th>100996</th>\n      <td>69996</td>\n      <td>2019-12-26</td>\n      <td>Center Shopping Uberlândia</td>\n      <td>Pulseira Estampa</td>\n      <td>1</td>\n      <td>87</td>\n      <td>87</td>\n    </tr>\n    <tr>\n      <th>100997</th>\n      <td>69997</td>\n      <td>2019-12-26</td>\n      <td>Ribeirão Shopping</td>\n      <td>Camisa Listrado</td>\n      <td>1</td>\n      <td>108</td>\n      <td>108</td>\n    </tr>\n    <tr>\n      <th>100998</th>\n      <td>69997</td>\n      <td>2019-12-26</td>\n      <td>Ribeirão Shopping</td>\n      <td>Short Linho</td>\n      <td>2</td>\n      <td>133</td>\n      <td>266</td>\n    </tr>\n  </tbody>\n</table>\n<p>100999 rows × 7 columns</p>\n</div>"
     },
     "metadata": {}
    }
   ]
  },
  {
   "cell_type": "code",
   "execution_count": 6,
   "metadata": {},
   "outputs": [
    {
     "output_type": "stream",
     "name": "stdout",
     "text": [
      "                                  Valor Final\nID Loja                                      \nBourbon Shopping SP                   1726110\nCenter Shopping Uberlândia            1668921\nIguatemi Campinas                     1762419\nIguatemi Esplanada                    1699681\nNorte Shopping                        1711968\nNovo Shopping Ribeirão Preto          1678225\nPalladium Shopping Curitiba           1721120\nParque Dom Pedro Shopping             1631630\nPassei das Águas Shopping             1649014\nRibeirão Shopping                     1707122\nRio Mar Recife                        1722766\nRio Mar Shopping Fortaleza            1698430\nSalvador Shopping                     1646739\nShopping Barra                        1653103\nShopping Center Interlagos            1640486\nShopping Center Leste Aricanduva      1682870\nShopping Eldorado                     1648111\nShopping Ibirapuera                   1635060\nShopping Iguatemi Fortaleza           1674824\nShopping Midway Mall                  1590441\nShopping Morumbi                      1586444\nShopping Recife                       1624879\nShopping SP Market                    1721763\nShopping União de Osasco              1663770\nShopping Vila Velha                   1731167\n"
     ]
    }
   ],
   "source": [
    "tabela_faturamento = tabela_vendas[[\"ID Loja\", \"Valor Final\"]].groupby(\"ID Loja\").sum()\n",
    "\n",
    "print(tabela_faturamento)"
   ]
  },
  {
   "cell_type": "code",
   "execution_count": null,
   "metadata": {},
   "outputs": [],
   "source": []
  }
 ]
}