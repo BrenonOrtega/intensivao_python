{
 "metadata": {
  "language_info": {
   "codemirror_mode": {
    "name": "ipython",
    "version": 3
   },
   "file_extension": ".py",
   "mimetype": "text/x-python",
   "name": "python",
   "nbconvert_exporter": "python",
   "pygments_lexer": "ipython3",
   "version": "3.9.1-final"
  },
  "orig_nbformat": 2,
  "kernelspec": {
   "name": "python3",
   "display_name": "Python 3",
   "language": "python"
  }
 },
 "nbformat": 4,
 "nbformat_minor": 2,
 "cells": [
  {
   "cell_type": "code",
   "execution_count": 16,
   "metadata": {},
   "outputs": [],
   "source": [
    "import pandas as pd\n",
    "import pathlib\n",
    "import numpy as np\n",
    "import seaborn as sns\n",
    "import matplotlib.pyplot as plt\n",
    "import plotly.express as px\n",
    "from sklearn.metrics import r2_score, mean_squared_error\n",
    "from sklearn.linear_model import LinearRegression\n",
    "from sklearn.ensemble import RandomForestRegressor, ExtraTreesRegressor\n",
    "from sklearn.model_selection import train_test_split"
   ]
  },
  {
   "cell_type": "code",
   "execution_count": 50,
   "metadata": {},
   "outputs": [],
   "source": [
    "#   Criar um dicionário para especificar os meses de cada ano e então utilizar isso para agrupa-los do dataset.\n",
    "meses = {'jan': 1, 'fev': 2, 'mar': 3, \n",
    "         'abr': 4, 'mai': 5, 'jun': 6, \n",
    "         'jul': 7, 'ago': 8, 'set': 9, \n",
    "         'out':10, 'nov':11, 'dez':12}\n",
    "\n",
    "#   importar todos os databases do seu caminho na pasta\n",
    "ds_paths = pathlib.Path('material/dataset')\n",
    "\n",
    "#criamos um dataframe para nossos dados \n",
    "df_airbnb = pd.DataFrame()\n",
    "\n",
    "#   Criar um for que leia o arquivo, cria uma coluna na base de dados e com o mês e o ano de cada informação\n",
    "for arquivo in ds_paths.iterdir(): #para cada arquivo no diretorio, itera todo o diretorio.\n",
    "    #lê o nome do arquivo até o 3º digito conforme o dict meses e recebe isso como valor.\n",
    "    nome_mes = arquivo.name[:3] \n",
    "\n",
    "#   armazena o valor númerico dado a esse nome dentro do dict ex: mes = meses['mar'] print(mes): 3\n",
    "    mes = meses[nome_mes] \n",
    "\n",
    "#   armazena o valor do ano, pegando isso até o oitavo caracter de traz para frente (-8:)\n",
    "    ano = arquivo.name[-8:]\n",
    "    #apagamos o .csv do arquivo (por isso devemos pegar o valor a partir do -8: ->  aaaa.csv = 8 caracteres) \n",
    "    ano = int(ano.replace('.csv', '')) \n",
    "\n",
    "    df = pd.read_csv(ds_paths / arquivo.name, low_memory=False)\n",
    "    df['ano'] = ano\n",
    "    df['mes'] = mes\n",
    "    df_airbnb = df_airbnb.append(df)"
   ]
  },
  {
   "cell_type": "code",
   "execution_count": 52,
   "metadata": {},
   "outputs": [
    {
     "output_type": "display_data",
     "data": {
      "text/plain": "             id                            listing_url       scrape_id  \\\n0         14063     https://www.airbnb.com/rooms/14063  20180414160018   \n1         17878     https://www.airbnb.com/rooms/17878  20180414160018   \n2         24480     https://www.airbnb.com/rooms/24480  20180414160018   \n3         25026     https://www.airbnb.com/rooms/25026  20180414160018   \n4         31560     https://www.airbnb.com/rooms/31560  20180414160018   \n...         ...                                    ...             ...   \n34324  38844730  https://www.airbnb.com/rooms/38844730  20190923212307   \n34325  38846408  https://www.airbnb.com/rooms/38846408  20190923212307   \n34326  38846703  https://www.airbnb.com/rooms/38846703  20190923212307   \n34327  38847050  https://www.airbnb.com/rooms/38847050  20190923212307   \n34328  38847655  https://www.airbnb.com/rooms/38847655  20190923212307   \n\n      last_scraped                                          name  \\\n0       2018-04-14                          Living in a Postcard   \n1       2018-04-14             Very Nice 2Br - Copacabana - WiFi   \n2       2018-04-14              Nice and cozy near Ipanema Beach   \n3       2018-04-14     Beautiful Modern Decorated Studio in Copa   \n4       2018-04-14              NICE & COZY 1BDR - IPANEMA BEACH   \n...            ...                                           ...   \n34324   2019-09-24             TRANSAMERICA BARRA DA TIJUCA R IV   \n34325   2019-09-24                      Alugo para o Rock in Rio   \n34326   2019-09-24  Apt COMPLETO em COPACABANA c/TOTAL SEGURANÇA   \n34327   2019-09-24                     Cobertura Cinematografica   \n34328   2019-09-24     Quarto em cobertura em frente à praia III   \n\n                                                 summary  \\\n0      Besides the most iconic's view, our apartment ...   \n1      Please note that special rates apply for New Y...   \n2      My studio is located in the best  of Ipanema. ...   \n3      Our apartment is a little gem, everyone loves ...   \n4      This nice and clean 1 bedroom apartment is loc...   \n...                                                  ...   \n34324  Em estilo contemporâneo, o Transamerica Prime ...   \n34325  Confortável apartamento, 2 quartos , sendo 1 s...   \n34326  Apartamento quarto e sala COMPLETO para curtas...   \n34327                               Cobertura alto nivel   \n34328  Quarto em cobertura quadriplex com vista lindí...   \n\n                                                   space  \\\n0                                                    NaN   \n1      - large balcony which looks out on pedestrian ...   \n2      The studio is located at Vinicius de Moraes St...   \n3      This newly renovated studio (last renovations ...   \n4      This nice and clean 1 bedroom apartment is loc...   \n...                                                  ...   \n34324                                                NaN   \n34325  O apartamento estará com mobília completa disp...   \n34326  Espaço ideal para até 5 pessoas. Cama de casal...   \n34327                                                NaN   \n34328                                                NaN   \n\n                                             description experiences_offered  \\\n0      Besides the most iconic's view, our apartment ...                none   \n1      Please note that special rates apply for New Y...                none   \n2      My studio is located in the best  of Ipanema. ...                none   \n3      Our apartment is a little gem, everyone loves ...                none   \n4      This nice and clean 1 bedroom apartment is loc...                none   \n...                                                  ...                 ...   \n34324  Em estilo contemporâneo, o Transamerica Prime ...                none   \n34325  Confortável apartamento, 2 quartos , sendo 1 s...                none   \n34326  Apartamento quarto e sala COMPLETO para curtas...                none   \n34327                               Cobertura alto nivel                none   \n34328  Quarto em cobertura quadriplex com vista lindí...                none   \n\n                                   neighborhood_overview  ...  \\\n0      Best and favorite neighborhood of Rio. Perfect...  ...   \n1      This is the best spot in Rio. Everything happe...  ...   \n2      The beach, the lagoon, Ipanema is a great loca...  ...   \n3      Copacabana is a lively neighborhood and the ap...  ...   \n4      Die Nachbarschaft von Ipanema ist super lebend...  ...   \n...                                                  ...  ...   \n34324                                                NaN  ...   \n34325  Muito próximo ao Parque Olímpico, local do eve...  ...   \n34326                                                NaN  ...   \n34327                                                NaN  ...   \n34328                                                NaN  ...   \n\n      minimum_minimum_nights maximum_minimum_nights minimum_maximum_nights  \\\n0                        NaN                    NaN                    NaN   \n1                        NaN                    NaN                    NaN   \n2                        NaN                    NaN                    NaN   \n3                        NaN                    NaN                    NaN   \n4                        NaN                    NaN                    NaN   \n...                      ...                    ...                    ...   \n34324                    1.0                    1.0                 1125.0   \n34325                    2.0                    2.0                 1125.0   \n34326                    3.0                    3.0                 1125.0   \n34327                    1.0                    1.0                 1125.0   \n34328                    1.0                    1.0                   30.0   \n\n      maximum_maximum_nights minimum_nights_avg_ntm  maximum_nights_avg_ntm  \\\n0                        NaN                    NaN                     NaN   \n1                        NaN                    NaN                     NaN   \n2                        NaN                    NaN                     NaN   \n3                        NaN                    NaN                     NaN   \n4                        NaN                    NaN                     NaN   \n...                      ...                    ...                     ...   \n34324                 1125.0                    1.0                  1125.0   \n34325                 1125.0                    2.0                  1125.0   \n34326                 1125.0                    3.0                  1125.0   \n34327                 1125.0                    1.0                  1125.0   \n34328                   30.0                    1.0                    30.0   \n\n       number_of_reviews_ltm calculated_host_listings_count_entire_homes  \\\n0                        NaN                                         NaN   \n1                        NaN                                         NaN   \n2                        NaN                                         NaN   \n3                        NaN                                         NaN   \n4                        NaN                                         NaN   \n...                      ...                                         ...   \n34324                    0.0                                        15.0   \n34325                    0.0                                         1.0   \n34326                    0.0                                        23.0   \n34327                    0.0                                         1.0   \n34328                    0.0                                         0.0   \n\n       calculated_host_listings_count_private_rooms  \\\n0                                               NaN   \n1                                               NaN   \n2                                               NaN   \n3                                               NaN   \n4                                               NaN   \n...                                             ...   \n34324                                           0.0   \n34325                                           0.0   \n34326                                           6.0   \n34327                                           0.0   \n34328                                           4.0   \n\n       calculated_host_listings_count_shared_rooms  \n0                                              NaN  \n1                                              NaN  \n2                                              NaN  \n3                                              NaN  \n4                                              NaN  \n...                                            ...  \n34324                                          0.0  \n34325                                          0.0  \n34326                                          0.0  \n34327                                          0.0  \n34328                                          0.0  \n\n[902210 rows x 108 columns]",
      "text/html": "<div>\n<style scoped>\n    .dataframe tbody tr th:only-of-type {\n        vertical-align: middle;\n    }\n\n    .dataframe tbody tr th {\n        vertical-align: top;\n    }\n\n    .dataframe thead th {\n        text-align: right;\n    }\n</style>\n<table border=\"1\" class=\"dataframe\">\n  <thead>\n    <tr style=\"text-align: right;\">\n      <th></th>\n      <th>id</th>\n      <th>listing_url</th>\n      <th>scrape_id</th>\n      <th>last_scraped</th>\n      <th>name</th>\n      <th>summary</th>\n      <th>space</th>\n      <th>description</th>\n      <th>experiences_offered</th>\n      <th>neighborhood_overview</th>\n      <th>...</th>\n      <th>minimum_minimum_nights</th>\n      <th>maximum_minimum_nights</th>\n      <th>minimum_maximum_nights</th>\n      <th>maximum_maximum_nights</th>\n      <th>minimum_nights_avg_ntm</th>\n      <th>maximum_nights_avg_ntm</th>\n      <th>number_of_reviews_ltm</th>\n      <th>calculated_host_listings_count_entire_homes</th>\n      <th>calculated_host_listings_count_private_rooms</th>\n      <th>calculated_host_listings_count_shared_rooms</th>\n    </tr>\n  </thead>\n  <tbody>\n    <tr>\n      <th>0</th>\n      <td>14063</td>\n      <td>https://www.airbnb.com/rooms/14063</td>\n      <td>20180414160018</td>\n      <td>2018-04-14</td>\n      <td>Living in a Postcard</td>\n      <td>Besides the most iconic's view, our apartment ...</td>\n      <td>NaN</td>\n      <td>Besides the most iconic's view, our apartment ...</td>\n      <td>none</td>\n      <td>Best and favorite neighborhood of Rio. Perfect...</td>\n      <td>...</td>\n      <td>NaN</td>\n      <td>NaN</td>\n      <td>NaN</td>\n      <td>NaN</td>\n      <td>NaN</td>\n      <td>NaN</td>\n      <td>NaN</td>\n      <td>NaN</td>\n      <td>NaN</td>\n      <td>NaN</td>\n    </tr>\n    <tr>\n      <th>1</th>\n      <td>17878</td>\n      <td>https://www.airbnb.com/rooms/17878</td>\n      <td>20180414160018</td>\n      <td>2018-04-14</td>\n      <td>Very Nice 2Br - Copacabana - WiFi</td>\n      <td>Please note that special rates apply for New Y...</td>\n      <td>- large balcony which looks out on pedestrian ...</td>\n      <td>Please note that special rates apply for New Y...</td>\n      <td>none</td>\n      <td>This is the best spot in Rio. Everything happe...</td>\n      <td>...</td>\n      <td>NaN</td>\n      <td>NaN</td>\n      <td>NaN</td>\n      <td>NaN</td>\n      <td>NaN</td>\n      <td>NaN</td>\n      <td>NaN</td>\n      <td>NaN</td>\n      <td>NaN</td>\n      <td>NaN</td>\n    </tr>\n    <tr>\n      <th>2</th>\n      <td>24480</td>\n      <td>https://www.airbnb.com/rooms/24480</td>\n      <td>20180414160018</td>\n      <td>2018-04-14</td>\n      <td>Nice and cozy near Ipanema Beach</td>\n      <td>My studio is located in the best  of Ipanema. ...</td>\n      <td>The studio is located at Vinicius de Moraes St...</td>\n      <td>My studio is located in the best  of Ipanema. ...</td>\n      <td>none</td>\n      <td>The beach, the lagoon, Ipanema is a great loca...</td>\n      <td>...</td>\n      <td>NaN</td>\n      <td>NaN</td>\n      <td>NaN</td>\n      <td>NaN</td>\n      <td>NaN</td>\n      <td>NaN</td>\n      <td>NaN</td>\n      <td>NaN</td>\n      <td>NaN</td>\n      <td>NaN</td>\n    </tr>\n    <tr>\n      <th>3</th>\n      <td>25026</td>\n      <td>https://www.airbnb.com/rooms/25026</td>\n      <td>20180414160018</td>\n      <td>2018-04-14</td>\n      <td>Beautiful Modern Decorated Studio in Copa</td>\n      <td>Our apartment is a little gem, everyone loves ...</td>\n      <td>This newly renovated studio (last renovations ...</td>\n      <td>Our apartment is a little gem, everyone loves ...</td>\n      <td>none</td>\n      <td>Copacabana is a lively neighborhood and the ap...</td>\n      <td>...</td>\n      <td>NaN</td>\n      <td>NaN</td>\n      <td>NaN</td>\n      <td>NaN</td>\n      <td>NaN</td>\n      <td>NaN</td>\n      <td>NaN</td>\n      <td>NaN</td>\n      <td>NaN</td>\n      <td>NaN</td>\n    </tr>\n    <tr>\n      <th>4</th>\n      <td>31560</td>\n      <td>https://www.airbnb.com/rooms/31560</td>\n      <td>20180414160018</td>\n      <td>2018-04-14</td>\n      <td>NICE &amp; COZY 1BDR - IPANEMA BEACH</td>\n      <td>This nice and clean 1 bedroom apartment is loc...</td>\n      <td>This nice and clean 1 bedroom apartment is loc...</td>\n      <td>This nice and clean 1 bedroom apartment is loc...</td>\n      <td>none</td>\n      <td>Die Nachbarschaft von Ipanema ist super lebend...</td>\n      <td>...</td>\n      <td>NaN</td>\n      <td>NaN</td>\n      <td>NaN</td>\n      <td>NaN</td>\n      <td>NaN</td>\n      <td>NaN</td>\n      <td>NaN</td>\n      <td>NaN</td>\n      <td>NaN</td>\n      <td>NaN</td>\n    </tr>\n    <tr>\n      <th>...</th>\n      <td>...</td>\n      <td>...</td>\n      <td>...</td>\n      <td>...</td>\n      <td>...</td>\n      <td>...</td>\n      <td>...</td>\n      <td>...</td>\n      <td>...</td>\n      <td>...</td>\n      <td>...</td>\n      <td>...</td>\n      <td>...</td>\n      <td>...</td>\n      <td>...</td>\n      <td>...</td>\n      <td>...</td>\n      <td>...</td>\n      <td>...</td>\n      <td>...</td>\n      <td>...</td>\n    </tr>\n    <tr>\n      <th>34324</th>\n      <td>38844730</td>\n      <td>https://www.airbnb.com/rooms/38844730</td>\n      <td>20190923212307</td>\n      <td>2019-09-24</td>\n      <td>TRANSAMERICA BARRA DA TIJUCA R IV</td>\n      <td>Em estilo contemporâneo, o Transamerica Prime ...</td>\n      <td>NaN</td>\n      <td>Em estilo contemporâneo, o Transamerica Prime ...</td>\n      <td>none</td>\n      <td>NaN</td>\n      <td>...</td>\n      <td>1.0</td>\n      <td>1.0</td>\n      <td>1125.0</td>\n      <td>1125.0</td>\n      <td>1.0</td>\n      <td>1125.0</td>\n      <td>0.0</td>\n      <td>15.0</td>\n      <td>0.0</td>\n      <td>0.0</td>\n    </tr>\n    <tr>\n      <th>34325</th>\n      <td>38846408</td>\n      <td>https://www.airbnb.com/rooms/38846408</td>\n      <td>20190923212307</td>\n      <td>2019-09-24</td>\n      <td>Alugo para o Rock in Rio</td>\n      <td>Confortável apartamento, 2 quartos , sendo 1 s...</td>\n      <td>O apartamento estará com mobília completa disp...</td>\n      <td>Confortável apartamento, 2 quartos , sendo 1 s...</td>\n      <td>none</td>\n      <td>Muito próximo ao Parque Olímpico, local do eve...</td>\n      <td>...</td>\n      <td>2.0</td>\n      <td>2.0</td>\n      <td>1125.0</td>\n      <td>1125.0</td>\n      <td>2.0</td>\n      <td>1125.0</td>\n      <td>0.0</td>\n      <td>1.0</td>\n      <td>0.0</td>\n      <td>0.0</td>\n    </tr>\n    <tr>\n      <th>34326</th>\n      <td>38846703</td>\n      <td>https://www.airbnb.com/rooms/38846703</td>\n      <td>20190923212307</td>\n      <td>2019-09-24</td>\n      <td>Apt COMPLETO em COPACABANA c/TOTAL SEGURANÇA</td>\n      <td>Apartamento quarto e sala COMPLETO para curtas...</td>\n      <td>Espaço ideal para até 5 pessoas. Cama de casal...</td>\n      <td>Apartamento quarto e sala COMPLETO para curtas...</td>\n      <td>none</td>\n      <td>NaN</td>\n      <td>...</td>\n      <td>3.0</td>\n      <td>3.0</td>\n      <td>1125.0</td>\n      <td>1125.0</td>\n      <td>3.0</td>\n      <td>1125.0</td>\n      <td>0.0</td>\n      <td>23.0</td>\n      <td>6.0</td>\n      <td>0.0</td>\n    </tr>\n    <tr>\n      <th>34327</th>\n      <td>38847050</td>\n      <td>https://www.airbnb.com/rooms/38847050</td>\n      <td>20190923212307</td>\n      <td>2019-09-24</td>\n      <td>Cobertura Cinematografica</td>\n      <td>Cobertura alto nivel</td>\n      <td>NaN</td>\n      <td>Cobertura alto nivel</td>\n      <td>none</td>\n      <td>NaN</td>\n      <td>...</td>\n      <td>1.0</td>\n      <td>1.0</td>\n      <td>1125.0</td>\n      <td>1125.0</td>\n      <td>1.0</td>\n      <td>1125.0</td>\n      <td>0.0</td>\n      <td>1.0</td>\n      <td>0.0</td>\n      <td>0.0</td>\n    </tr>\n    <tr>\n      <th>34328</th>\n      <td>38847655</td>\n      <td>https://www.airbnb.com/rooms/38847655</td>\n      <td>20190923212307</td>\n      <td>2019-09-24</td>\n      <td>Quarto em cobertura em frente à praia III</td>\n      <td>Quarto em cobertura quadriplex com vista lindí...</td>\n      <td>NaN</td>\n      <td>Quarto em cobertura quadriplex com vista lindí...</td>\n      <td>none</td>\n      <td>NaN</td>\n      <td>...</td>\n      <td>1.0</td>\n      <td>1.0</td>\n      <td>30.0</td>\n      <td>30.0</td>\n      <td>1.0</td>\n      <td>30.0</td>\n      <td>0.0</td>\n      <td>0.0</td>\n      <td>4.0</td>\n      <td>0.0</td>\n    </tr>\n  </tbody>\n</table>\n<p>902210 rows × 108 columns</p>\n</div>"
     },
     "metadata": {}
    }
   ],
   "source": [
    "display(df_airbnb)"
   ]
  },
  {
   "cell_type": "code",
   "execution_count": 67,
   "metadata": {},
   "outputs": [
    {
     "output_type": "display_data",
     "data": {
      "text/plain": "id                                                int64\nlisting_url                                      object\nscrape_id                                         int64\nlast_scraped                                     object\nname                                             object\n                                                 ...   \nmaximum_nights_avg_ntm                          float64\nnumber_of_reviews_ltm                           float64\ncalculated_host_listings_count_entire_homes     float64\ncalculated_host_listings_count_private_rooms    float64\ncalculated_host_listings_count_shared_rooms     float64\nLength: 108, dtype: object"
     },
     "metadata": {}
    }
   ],
   "source": [
    "#   A partir de agora é necessário tratar estes dados, verificando o que é útil e o que não é.\n",
    "#   Análise Própria, id,listing_url,scrape_id, colunas puramente de texto, não são interessantes.\n",
    "#   verificando os tipos de cada coluna, devemos utilizar o atributo pandas.DataFrame.dtypes:\n",
    "display(df_airbnb.dtypes)"
   ]
  },
  {
   "cell_type": "code",
   "execution_count": 76,
   "metadata": {},
   "outputs": [
    {
     "output_type": "error",
     "ename": "KeyError",
     "evalue": "\"[('listing_url', 'name', 'last_scraped')] not found in axis\"",
     "traceback": [
      "\u001b[1;31m---------------------------------------------------------------------------\u001b[0m",
      "\u001b[1;31mKeyError\u001b[0m                                  Traceback (most recent call last)",
      "\u001b[1;32m<ipython-input-76-6c23a01e8520>\u001b[0m in \u001b[0;36m<module>\u001b[1;34m\u001b[0m\n\u001b[0;32m      2\u001b[0m \u001b[1;31m#   em formato CSV pode ser interessante, o pandas tem um comando para tal, \"to_csv(new_file_name.csv)\"\u001b[0m\u001b[1;33m\u001b[0m\u001b[1;33m\u001b[0m\u001b[1;33m\u001b[0m\u001b[0m\n\u001b[0;32m      3\u001b[0m \u001b[1;33m\u001b[0m\u001b[0m\n\u001b[1;32m----> 4\u001b[1;33m \u001b[0mdf_airbnb\u001b[0m\u001b[1;33m.\u001b[0m\u001b[0mdrop\u001b[0m\u001b[1;33m(\u001b[0m\u001b[1;33m[\u001b[0m\u001b[1;33m[\u001b[0m\u001b[1;34m'listing_url'\u001b[0m\u001b[1;33m,\u001b[0m \u001b[1;34m'name'\u001b[0m\u001b[1;33m,\u001b[0m \u001b[1;34m'last_scraped'\u001b[0m\u001b[1;33m]\u001b[0m\u001b[1;33m]\u001b[0m\u001b[1;33m,\u001b[0m\u001b[0maxis\u001b[0m\u001b[1;33m=\u001b[0m\u001b[1;36m0\u001b[0m\u001b[1;33m)\u001b[0m\u001b[1;33m\u001b[0m\u001b[1;33m\u001b[0m\u001b[0m\n\u001b[0m",
      "\u001b[1;32mc:\\users\\bryan\\documents\\coding\\intensivao_python\\.env\\lib\\site-packages\\pandas\\core\\frame.py\u001b[0m in \u001b[0;36mdrop\u001b[1;34m(self, labels, axis, index, columns, level, inplace, errors)\u001b[0m\n\u001b[0;32m   4303\u001b[0m                 \u001b[0mweight\u001b[0m  \u001b[1;36m1.0\u001b[0m     \u001b[1;36m0.8\u001b[0m\u001b[1;33m\u001b[0m\u001b[1;33m\u001b[0m\u001b[0m\n\u001b[0;32m   4304\u001b[0m         \"\"\"\n\u001b[1;32m-> 4305\u001b[1;33m         return super().drop(\n\u001b[0m\u001b[0;32m   4306\u001b[0m             \u001b[0mlabels\u001b[0m\u001b[1;33m=\u001b[0m\u001b[0mlabels\u001b[0m\u001b[1;33m,\u001b[0m\u001b[1;33m\u001b[0m\u001b[1;33m\u001b[0m\u001b[0m\n\u001b[0;32m   4307\u001b[0m             \u001b[0maxis\u001b[0m\u001b[1;33m=\u001b[0m\u001b[0maxis\u001b[0m\u001b[1;33m,\u001b[0m\u001b[1;33m\u001b[0m\u001b[1;33m\u001b[0m\u001b[0m\n",
      "\u001b[1;32mc:\\users\\bryan\\documents\\coding\\intensivao_python\\.env\\lib\\site-packages\\pandas\\core\\generic.py\u001b[0m in \u001b[0;36mdrop\u001b[1;34m(self, labels, axis, index, columns, level, inplace, errors)\u001b[0m\n\u001b[0;32m   4150\u001b[0m         \u001b[1;32mfor\u001b[0m \u001b[0maxis\u001b[0m\u001b[1;33m,\u001b[0m \u001b[0mlabels\u001b[0m \u001b[1;32min\u001b[0m \u001b[0maxes\u001b[0m\u001b[1;33m.\u001b[0m\u001b[0mitems\u001b[0m\u001b[1;33m(\u001b[0m\u001b[1;33m)\u001b[0m\u001b[1;33m:\u001b[0m\u001b[1;33m\u001b[0m\u001b[1;33m\u001b[0m\u001b[0m\n\u001b[0;32m   4151\u001b[0m             \u001b[1;32mif\u001b[0m \u001b[0mlabels\u001b[0m \u001b[1;32mis\u001b[0m \u001b[1;32mnot\u001b[0m \u001b[1;32mNone\u001b[0m\u001b[1;33m:\u001b[0m\u001b[1;33m\u001b[0m\u001b[1;33m\u001b[0m\u001b[0m\n\u001b[1;32m-> 4152\u001b[1;33m                 \u001b[0mobj\u001b[0m \u001b[1;33m=\u001b[0m \u001b[0mobj\u001b[0m\u001b[1;33m.\u001b[0m\u001b[0m_drop_axis\u001b[0m\u001b[1;33m(\u001b[0m\u001b[0mlabels\u001b[0m\u001b[1;33m,\u001b[0m \u001b[0maxis\u001b[0m\u001b[1;33m,\u001b[0m \u001b[0mlevel\u001b[0m\u001b[1;33m=\u001b[0m\u001b[0mlevel\u001b[0m\u001b[1;33m,\u001b[0m \u001b[0merrors\u001b[0m\u001b[1;33m=\u001b[0m\u001b[0merrors\u001b[0m\u001b[1;33m)\u001b[0m\u001b[1;33m\u001b[0m\u001b[1;33m\u001b[0m\u001b[0m\n\u001b[0m\u001b[0;32m   4153\u001b[0m \u001b[1;33m\u001b[0m\u001b[0m\n\u001b[0;32m   4154\u001b[0m         \u001b[1;32mif\u001b[0m \u001b[0minplace\u001b[0m\u001b[1;33m:\u001b[0m\u001b[1;33m\u001b[0m\u001b[1;33m\u001b[0m\u001b[0m\n",
      "\u001b[1;32mc:\\users\\bryan\\documents\\coding\\intensivao_python\\.env\\lib\\site-packages\\pandas\\core\\generic.py\u001b[0m in \u001b[0;36m_drop_axis\u001b[1;34m(self, labels, axis, level, errors)\u001b[0m\n\u001b[0;32m   4204\u001b[0m                 \u001b[0mlabels_missing\u001b[0m \u001b[1;33m=\u001b[0m \u001b[1;33m(\u001b[0m\u001b[0maxis\u001b[0m\u001b[1;33m.\u001b[0m\u001b[0mget_indexer_for\u001b[0m\u001b[1;33m(\u001b[0m\u001b[0mlabels\u001b[0m\u001b[1;33m)\u001b[0m \u001b[1;33m==\u001b[0m \u001b[1;33m-\u001b[0m\u001b[1;36m1\u001b[0m\u001b[1;33m)\u001b[0m\u001b[1;33m.\u001b[0m\u001b[0many\u001b[0m\u001b[1;33m(\u001b[0m\u001b[1;33m)\u001b[0m\u001b[1;33m\u001b[0m\u001b[1;33m\u001b[0m\u001b[0m\n\u001b[0;32m   4205\u001b[0m                 \u001b[1;32mif\u001b[0m \u001b[0merrors\u001b[0m \u001b[1;33m==\u001b[0m \u001b[1;34m\"raise\"\u001b[0m \u001b[1;32mand\u001b[0m \u001b[0mlabels_missing\u001b[0m\u001b[1;33m:\u001b[0m\u001b[1;33m\u001b[0m\u001b[1;33m\u001b[0m\u001b[0m\n\u001b[1;32m-> 4206\u001b[1;33m                     \u001b[1;32mraise\u001b[0m \u001b[0mKeyError\u001b[0m\u001b[1;33m(\u001b[0m\u001b[1;34mf\"{labels} not found in axis\"\u001b[0m\u001b[1;33m)\u001b[0m\u001b[1;33m\u001b[0m\u001b[1;33m\u001b[0m\u001b[0m\n\u001b[0m\u001b[0;32m   4207\u001b[0m \u001b[1;33m\u001b[0m\u001b[0m\n\u001b[0;32m   4208\u001b[0m             \u001b[0mslicer\u001b[0m \u001b[1;33m=\u001b[0m \u001b[1;33m[\u001b[0m\u001b[0mslice\u001b[0m\u001b[1;33m(\u001b[0m\u001b[1;32mNone\u001b[0m\u001b[1;33m)\u001b[0m\u001b[1;33m]\u001b[0m \u001b[1;33m*\u001b[0m \u001b[0mself\u001b[0m\u001b[1;33m.\u001b[0m\u001b[0mndim\u001b[0m\u001b[1;33m\u001b[0m\u001b[1;33m\u001b[0m\u001b[0m\n",
      "\u001b[1;31mKeyError\u001b[0m: \"[('listing_url', 'name', 'last_scraped')] not found in axis\""
     ]
    }
   ],
   "source": [
    "#   Devemos manualmente verificar o que é útil e o que não é, portanto importar a base de dados \n",
    "#   em formato CSV pode ser interessante, o pandas tem um comando para tal, \"to_csv(new_file_name.csv)\"\n",
    "\n",
    "print(list(df_airbnb.columns))"
   ]
  },
  {
   "cell_type": "code",
   "execution_count": null,
   "metadata": {},
   "outputs": [],
   "source": []
  }
 ]
}