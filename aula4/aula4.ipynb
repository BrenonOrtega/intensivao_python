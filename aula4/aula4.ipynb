{
 "metadata": {
  "language_info": {
   "codemirror_mode": {
    "name": "ipython",
    "version": 3
   },
   "file_extension": ".py",
   "mimetype": "text/x-python",
   "name": "python",
   "nbconvert_exporter": "python",
   "pygments_lexer": "ipython3",
   "version": "3.9.1-final"
  },
  "orig_nbformat": 2,
  "kernelspec": {
   "name": "python3",
   "display_name": "Python 3",
   "language": "python"
  }
 },
 "nbformat": 4,
 "nbformat_minor": 2,
 "cells": [
  {
   "cell_type": "code",
   "execution_count": 5,
   "metadata": {},
   "outputs": [
    {
     "output_type": "display_data",
     "data": {
      "text/plain": "        Cliente        Nome  Valor Pago  Valor Total Devido  \\\n0   11122233312        José        8950                8950   \n1   11122233345       Maria        8950                8950   \n2   11122233367        João        8950                8950   \n3   22233344456     Antônio        8950                8950   \n4   22233344484   Francisco        8950                8950   \n5   25566677829      Carlos        8950                8950   \n6   28900011174       Paulo        8341                8950   \n7   32233344520       Pedro        2763                8950   \n8   35566677865       Lucas        8950                8950   \n9   38900011211        Luiz        8950                8950   \n10  42233344556      Marcos        8950                8950   \n11  45566677901        Luis        8950                8950   \n12  48900011247     Gabriel        8950                8950   \n13  52233344592      Rafael        5223                8950   \n14  55566677938      Daniel        8950                8950   \n15  58900011283     Marcelo        8950                8950   \n16  62233344628       Bruno        8950                8950   \n17  65566677974     Eduardo        8950                8950   \n18  68900011319      Felipe        8950                8950   \n19  72233344665    Raimundo        8950                8950   \n20  75566678010     Rodrigo        8950                8950   \n21  78900011355         Ana        8950                8950   \n22  82233344701   Francisca        8950                8950   \n23  85566678046     Antônia        8950                8950   \n24  88900011392     Adriana        8950                8950   \n25  92233344737     Juliana        8950                8950   \n26  95566678082      Márcia        8950                8950   \n27  98900011428    Fernanda        5777                8950   \n28   2233344773    Patricia        8950                8950   \n29   5566678119       Aline        8950                8950   \n30   8900011464      Sandra        1300                8950   \n31  12233344809      Camila        3394                8950   \n32  15566678155      Amanda        1261                8950   \n33  18900011500       Bruna        8950                8950   \n34  22233344846     Jéssica        8950                8950   \n35  25566678191     Leticia        3673                8950   \n36  28900011536       Júlia        8950                8950   \n37  32233344882     Luciana        8950                8950   \n38  35566678227     Vanessa        8950                8950   \n39  38900011573     Mariana        8950                8950   \n40  42233344918      Amanda        2490                8950   \n41  45566678263  Alessandra        8950                8950   \n42  48900011609        Alon        8950                8950   \n43  52233344954      Marlon        8950                8950   \n44  55566678300       Diego        8950                8950   \n45  58900011645        Enzo        8950                8950   \n46  62233344990   Valentina        8950                8950   \n47  65566678336        Rosa        8950                8950   \n48  68900011681    Andressa        8950                8950   \n\n                                Email  \n0    pythonimpressionador+1@gmail.com  \n1    pythonimpressionador+2@gmail.com  \n2    pythonimpressionador+3@gmail.com  \n3    pythonimpressionador+4@gmail.com  \n4    pythonimpressionador+5@gmail.com  \n5    pythonimpressionador+6@gmail.com  \n6    pythonimpressionador+7@gmail.com  \n7    pythonimpressionador+8@gmail.com  \n8    pythonimpressionador+9@gmail.com  \n9   pythonimpressionador+10@gmail.com  \n10  pythonimpressionador+11@gmail.com  \n11  pythonimpressionador+12@gmail.com  \n12  pythonimpressionador+13@gmail.com  \n13  pythonimpressionador+14@gmail.com  \n14  pythonimpressionador+15@gmail.com  \n15  pythonimpressionador+16@gmail.com  \n16  pythonimpressionador+17@gmail.com  \n17  pythonimpressionador+18@gmail.com  \n18  pythonimpressionador+19@gmail.com  \n19  pythonimpressionador+20@gmail.com  \n20  pythonimpressionador+21@gmail.com  \n21  pythonimpressionador+22@gmail.com  \n22  pythonimpressionador+23@gmail.com  \n23  pythonimpressionador+24@gmail.com  \n24  pythonimpressionador+25@gmail.com  \n25  pythonimpressionador+26@gmail.com  \n26  pythonimpressionador+27@gmail.com  \n27  pythonimpressionador+28@gmail.com  \n28  pythonimpressionador+29@gmail.com  \n29  pythonimpressionador+30@gmail.com  \n30  pythonimpressionador+31@gmail.com  \n31  pythonimpressionador+32@gmail.com  \n32  pythonimpressionador+33@gmail.com  \n33  pythonimpressionador+34@gmail.com  \n34  pythonimpressionador+35@gmail.com  \n35  pythonimpressionador+36@gmail.com  \n36  pythonimpressionador+37@gmail.com  \n37  pythonimpressionador+38@gmail.com  \n38  pythonimpressionador+39@gmail.com  \n39  pythonimpressionador+40@gmail.com  \n40  pythonimpressionador+41@gmail.com  \n41  pythonimpressionador+42@gmail.com  \n42  pythonimpressionador+43@gmail.com  \n43  pythonimpressionador+44@gmail.com  \n44  pythonimpressionador+45@gmail.com  \n45  pythonimpressionador+46@gmail.com  \n46  pythonimpressionador+47@gmail.com  \n47  pythonimpressionador+48@gmail.com  \n48  pythonimpressionador+49@gmail.com  ",
      "text/html": "<div>\n<style scoped>\n    .dataframe tbody tr th:only-of-type {\n        vertical-align: middle;\n    }\n\n    .dataframe tbody tr th {\n        vertical-align: top;\n    }\n\n    .dataframe thead th {\n        text-align: right;\n    }\n</style>\n<table border=\"1\" class=\"dataframe\">\n  <thead>\n    <tr style=\"text-align: right;\">\n      <th></th>\n      <th>Cliente</th>\n      <th>Nome</th>\n      <th>Valor Pago</th>\n      <th>Valor Total Devido</th>\n      <th>Email</th>\n    </tr>\n  </thead>\n  <tbody>\n    <tr>\n      <th>0</th>\n      <td>11122233312</td>\n      <td>José</td>\n      <td>8950</td>\n      <td>8950</td>\n      <td>pythonimpressionador+1@gmail.com</td>\n    </tr>\n    <tr>\n      <th>1</th>\n      <td>11122233345</td>\n      <td>Maria</td>\n      <td>8950</td>\n      <td>8950</td>\n      <td>pythonimpressionador+2@gmail.com</td>\n    </tr>\n    <tr>\n      <th>2</th>\n      <td>11122233367</td>\n      <td>João</td>\n      <td>8950</td>\n      <td>8950</td>\n      <td>pythonimpressionador+3@gmail.com</td>\n    </tr>\n    <tr>\n      <th>3</th>\n      <td>22233344456</td>\n      <td>Antônio</td>\n      <td>8950</td>\n      <td>8950</td>\n      <td>pythonimpressionador+4@gmail.com</td>\n    </tr>\n    <tr>\n      <th>4</th>\n      <td>22233344484</td>\n      <td>Francisco</td>\n      <td>8950</td>\n      <td>8950</td>\n      <td>pythonimpressionador+5@gmail.com</td>\n    </tr>\n    <tr>\n      <th>5</th>\n      <td>25566677829</td>\n      <td>Carlos</td>\n      <td>8950</td>\n      <td>8950</td>\n      <td>pythonimpressionador+6@gmail.com</td>\n    </tr>\n    <tr>\n      <th>6</th>\n      <td>28900011174</td>\n      <td>Paulo</td>\n      <td>8341</td>\n      <td>8950</td>\n      <td>pythonimpressionador+7@gmail.com</td>\n    </tr>\n    <tr>\n      <th>7</th>\n      <td>32233344520</td>\n      <td>Pedro</td>\n      <td>2763</td>\n      <td>8950</td>\n      <td>pythonimpressionador+8@gmail.com</td>\n    </tr>\n    <tr>\n      <th>8</th>\n      <td>35566677865</td>\n      <td>Lucas</td>\n      <td>8950</td>\n      <td>8950</td>\n      <td>pythonimpressionador+9@gmail.com</td>\n    </tr>\n    <tr>\n      <th>9</th>\n      <td>38900011211</td>\n      <td>Luiz</td>\n      <td>8950</td>\n      <td>8950</td>\n      <td>pythonimpressionador+10@gmail.com</td>\n    </tr>\n    <tr>\n      <th>10</th>\n      <td>42233344556</td>\n      <td>Marcos</td>\n      <td>8950</td>\n      <td>8950</td>\n      <td>pythonimpressionador+11@gmail.com</td>\n    </tr>\n    <tr>\n      <th>11</th>\n      <td>45566677901</td>\n      <td>Luis</td>\n      <td>8950</td>\n      <td>8950</td>\n      <td>pythonimpressionador+12@gmail.com</td>\n    </tr>\n    <tr>\n      <th>12</th>\n      <td>48900011247</td>\n      <td>Gabriel</td>\n      <td>8950</td>\n      <td>8950</td>\n      <td>pythonimpressionador+13@gmail.com</td>\n    </tr>\n    <tr>\n      <th>13</th>\n      <td>52233344592</td>\n      <td>Rafael</td>\n      <td>5223</td>\n      <td>8950</td>\n      <td>pythonimpressionador+14@gmail.com</td>\n    </tr>\n    <tr>\n      <th>14</th>\n      <td>55566677938</td>\n      <td>Daniel</td>\n      <td>8950</td>\n      <td>8950</td>\n      <td>pythonimpressionador+15@gmail.com</td>\n    </tr>\n    <tr>\n      <th>15</th>\n      <td>58900011283</td>\n      <td>Marcelo</td>\n      <td>8950</td>\n      <td>8950</td>\n      <td>pythonimpressionador+16@gmail.com</td>\n    </tr>\n    <tr>\n      <th>16</th>\n      <td>62233344628</td>\n      <td>Bruno</td>\n      <td>8950</td>\n      <td>8950</td>\n      <td>pythonimpressionador+17@gmail.com</td>\n    </tr>\n    <tr>\n      <th>17</th>\n      <td>65566677974</td>\n      <td>Eduardo</td>\n      <td>8950</td>\n      <td>8950</td>\n      <td>pythonimpressionador+18@gmail.com</td>\n    </tr>\n    <tr>\n      <th>18</th>\n      <td>68900011319</td>\n      <td>Felipe</td>\n      <td>8950</td>\n      <td>8950</td>\n      <td>pythonimpressionador+19@gmail.com</td>\n    </tr>\n    <tr>\n      <th>19</th>\n      <td>72233344665</td>\n      <td>Raimundo</td>\n      <td>8950</td>\n      <td>8950</td>\n      <td>pythonimpressionador+20@gmail.com</td>\n    </tr>\n    <tr>\n      <th>20</th>\n      <td>75566678010</td>\n      <td>Rodrigo</td>\n      <td>8950</td>\n      <td>8950</td>\n      <td>pythonimpressionador+21@gmail.com</td>\n    </tr>\n    <tr>\n      <th>21</th>\n      <td>78900011355</td>\n      <td>Ana</td>\n      <td>8950</td>\n      <td>8950</td>\n      <td>pythonimpressionador+22@gmail.com</td>\n    </tr>\n    <tr>\n      <th>22</th>\n      <td>82233344701</td>\n      <td>Francisca</td>\n      <td>8950</td>\n      <td>8950</td>\n      <td>pythonimpressionador+23@gmail.com</td>\n    </tr>\n    <tr>\n      <th>23</th>\n      <td>85566678046</td>\n      <td>Antônia</td>\n      <td>8950</td>\n      <td>8950</td>\n      <td>pythonimpressionador+24@gmail.com</td>\n    </tr>\n    <tr>\n      <th>24</th>\n      <td>88900011392</td>\n      <td>Adriana</td>\n      <td>8950</td>\n      <td>8950</td>\n      <td>pythonimpressionador+25@gmail.com</td>\n    </tr>\n    <tr>\n      <th>25</th>\n      <td>92233344737</td>\n      <td>Juliana</td>\n      <td>8950</td>\n      <td>8950</td>\n      <td>pythonimpressionador+26@gmail.com</td>\n    </tr>\n    <tr>\n      <th>26</th>\n      <td>95566678082</td>\n      <td>Márcia</td>\n      <td>8950</td>\n      <td>8950</td>\n      <td>pythonimpressionador+27@gmail.com</td>\n    </tr>\n    <tr>\n      <th>27</th>\n      <td>98900011428</td>\n      <td>Fernanda</td>\n      <td>5777</td>\n      <td>8950</td>\n      <td>pythonimpressionador+28@gmail.com</td>\n    </tr>\n    <tr>\n      <th>28</th>\n      <td>2233344773</td>\n      <td>Patricia</td>\n      <td>8950</td>\n      <td>8950</td>\n      <td>pythonimpressionador+29@gmail.com</td>\n    </tr>\n    <tr>\n      <th>29</th>\n      <td>5566678119</td>\n      <td>Aline</td>\n      <td>8950</td>\n      <td>8950</td>\n      <td>pythonimpressionador+30@gmail.com</td>\n    </tr>\n    <tr>\n      <th>30</th>\n      <td>8900011464</td>\n      <td>Sandra</td>\n      <td>1300</td>\n      <td>8950</td>\n      <td>pythonimpressionador+31@gmail.com</td>\n    </tr>\n    <tr>\n      <th>31</th>\n      <td>12233344809</td>\n      <td>Camila</td>\n      <td>3394</td>\n      <td>8950</td>\n      <td>pythonimpressionador+32@gmail.com</td>\n    </tr>\n    <tr>\n      <th>32</th>\n      <td>15566678155</td>\n      <td>Amanda</td>\n      <td>1261</td>\n      <td>8950</td>\n      <td>pythonimpressionador+33@gmail.com</td>\n    </tr>\n    <tr>\n      <th>33</th>\n      <td>18900011500</td>\n      <td>Bruna</td>\n      <td>8950</td>\n      <td>8950</td>\n      <td>pythonimpressionador+34@gmail.com</td>\n    </tr>\n    <tr>\n      <th>34</th>\n      <td>22233344846</td>\n      <td>Jéssica</td>\n      <td>8950</td>\n      <td>8950</td>\n      <td>pythonimpressionador+35@gmail.com</td>\n    </tr>\n    <tr>\n      <th>35</th>\n      <td>25566678191</td>\n      <td>Leticia</td>\n      <td>3673</td>\n      <td>8950</td>\n      <td>pythonimpressionador+36@gmail.com</td>\n    </tr>\n    <tr>\n      <th>36</th>\n      <td>28900011536</td>\n      <td>Júlia</td>\n      <td>8950</td>\n      <td>8950</td>\n      <td>pythonimpressionador+37@gmail.com</td>\n    </tr>\n    <tr>\n      <th>37</th>\n      <td>32233344882</td>\n      <td>Luciana</td>\n      <td>8950</td>\n      <td>8950</td>\n      <td>pythonimpressionador+38@gmail.com</td>\n    </tr>\n    <tr>\n      <th>38</th>\n      <td>35566678227</td>\n      <td>Vanessa</td>\n      <td>8950</td>\n      <td>8950</td>\n      <td>pythonimpressionador+39@gmail.com</td>\n    </tr>\n    <tr>\n      <th>39</th>\n      <td>38900011573</td>\n      <td>Mariana</td>\n      <td>8950</td>\n      <td>8950</td>\n      <td>pythonimpressionador+40@gmail.com</td>\n    </tr>\n    <tr>\n      <th>40</th>\n      <td>42233344918</td>\n      <td>Amanda</td>\n      <td>2490</td>\n      <td>8950</td>\n      <td>pythonimpressionador+41@gmail.com</td>\n    </tr>\n    <tr>\n      <th>41</th>\n      <td>45566678263</td>\n      <td>Alessandra</td>\n      <td>8950</td>\n      <td>8950</td>\n      <td>pythonimpressionador+42@gmail.com</td>\n    </tr>\n    <tr>\n      <th>42</th>\n      <td>48900011609</td>\n      <td>Alon</td>\n      <td>8950</td>\n      <td>8950</td>\n      <td>pythonimpressionador+43@gmail.com</td>\n    </tr>\n    <tr>\n      <th>43</th>\n      <td>52233344954</td>\n      <td>Marlon</td>\n      <td>8950</td>\n      <td>8950</td>\n      <td>pythonimpressionador+44@gmail.com</td>\n    </tr>\n    <tr>\n      <th>44</th>\n      <td>55566678300</td>\n      <td>Diego</td>\n      <td>8950</td>\n      <td>8950</td>\n      <td>pythonimpressionador+45@gmail.com</td>\n    </tr>\n    <tr>\n      <th>45</th>\n      <td>58900011645</td>\n      <td>Enzo</td>\n      <td>8950</td>\n      <td>8950</td>\n      <td>pythonimpressionador+46@gmail.com</td>\n    </tr>\n    <tr>\n      <th>46</th>\n      <td>62233344990</td>\n      <td>Valentina</td>\n      <td>8950</td>\n      <td>8950</td>\n      <td>pythonimpressionador+47@gmail.com</td>\n    </tr>\n    <tr>\n      <th>47</th>\n      <td>65566678336</td>\n      <td>Rosa</td>\n      <td>8950</td>\n      <td>8950</td>\n      <td>pythonimpressionador+48@gmail.com</td>\n    </tr>\n    <tr>\n      <th>48</th>\n      <td>68900011681</td>\n      <td>Andressa</td>\n      <td>8950</td>\n      <td>8950</td>\n      <td>pythonimpressionador+49@gmail.com</td>\n    </tr>\n  </tbody>\n</table>\n</div>"
     },
     "metadata": {}
    }
   ],
   "source": [
    "#   Estudo de caso: Automação de Cobrança.\n",
    "\n",
    "import pandas as pd\n",
    "\n",
    "clientes = pd.read_excel('./material/Clientes Pagamento.Xlsx')\n",
    "display(clientes)"
   ]
  },
  {
   "cell_type": "code",
   "execution_count": 6,
   "metadata": {},
   "outputs": [
    {
     "output_type": "execute_result",
     "data": {
      "text/plain": [
       "'500.00'"
      ]
     },
     "metadata": {},
     "execution_count": 6
    }
   ],
   "source": [
    "valor = 500\n",
    "texto_valor = f\"{valor:.2f}\"\n",
    "texto_valor"
   ]
  },
  {
   "cell_type": "code",
   "execution_count": null,
   "metadata": {},
   "outputs": [],
   "source": [
    "from selenium import webdriver \n",
    "\n",
    "navegador = webdriver.Chrome()\n",
    "navegador.get('www.youtube.com.br')"
   ]
  },
  {
   "cell_type": "code",
   "execution_count": null,
   "metadata": {},
   "outputs": [],
   "source": [
    "#para utilizar uma celula específica, devemos usar o pandas.DataFrame.loc(linha, coluna)\n",
    "\n",
    "site_cobranca = \"www.pagseguro.com\"\n",
    "delay = 5\n",
    "navegador = webdriver.Chrome()\n",
    "\n",
    "for cliente in clientes.index:\n",
    "    divida = clientes.loc[cliente, 'Valor Pago'] - clientes.loc[cliente, 'Total Valor devido']\n",
    "\n",
    "    if divida > 0 : \n",
    "        navegador.get(site_cobranca)\n",
    "        time.sleep(delay)\n",
    "\n",
    "        email_cliente = clientes.loc[cliente, 'Email']\n",
    "        nome_cliente = clientes.loc[cliente, 'Nome']\n",
    "        valor_boleto = divida\n",
    "\n",
    "\n",
    "\n"
   ]
  }
 ]
}